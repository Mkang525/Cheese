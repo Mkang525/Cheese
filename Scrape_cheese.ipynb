{
 "cells": [
  {
   "cell_type": "code",
   "execution_count": 51,
   "metadata": {},
   "outputs": [],
   "source": [
    " # Dependencies\n",
    "from bs4 import BeautifulSoup, NavigableString\n",
    "import requests\n",
    "import pymongo\n",
    "from splinter import Browser"
   ]
  },
  {
   "cell_type": "code",
   "execution_count": 2,
   "metadata": {},
   "outputs": [],
   "source": [
    "conn = 'mongodb://localhost:27017'\n",
    "client = pymongo.MongoClient(conn)"
   ]
  },
  {
   "cell_type": "code",
   "execution_count": 3,
   "metadata": {},
   "outputs": [],
   "source": [
    "db = client.wine_cheese_pairing_db\n",
    "collection = db.cheese"
   ]
  },
  {
   "cell_type": "code",
   "execution_count": 4,
   "metadata": {},
   "outputs": [],
   "source": [
    "executable_path = {'executable_path': 'chromedriver.exe'}\n",
    "browser = Browser('chrome', **executable_path, headless=False)\n",
    "\n",
    "url = 'https://cheese.com/abbaye-de-belloc/'\n",
    "browser.visit(url)\n"
   ]
  },
  {
   "cell_type": "code",
   "execution_count": 62,
   "metadata": {},
   "outputs": [
    {
     "name": "stdout",
     "output_type": "stream",
     "text": [
      "[<p>Made from unpasteurized <a href=\"/by_milk/?m=cow\">cow</a>'s and <a href=\"/by_milk/?m=sheep\">sheep</a>'s milk</p>, <p>Country of origin: <a href=\"/by_country/?c=FR\">France</a></p>, <p>Region: Pays Basque</p>, <p>Type: <a href=\"/by_type/?t=semi-hard\">semi-hard</a>, artisan</p>, <p>Texture: <a href=\"/by_texture/?t=creamy\">creamy</a>, <a href=\"/by_texture/?t=dense\">dense</a> and <a href=\"/by_texture/?t=firm\">firm</a></p>, <p>Rind: natural</p>, <p>Colour: yellow</p>, <p>Flavour: burnt caramel</p>, <p>Aroma: lanoline</p>, <p>Vegetarian: yes </p>, <p>Synonyms: Abbaye Notre-Dame de Belloc</p>]\n"
     ]
    }
   ],
   "source": [
    "# Retrieve page with the requests module\n",
    "response = requests.get(url)\n",
    "# Create BeautifulSoup object; parse with 'lxml'\n",
    "soup = BeautifulSoup(response.text, 'lxml')\n",
    "\n",
    "result = soup.find(\"ul\", class_ = \"summary-points\").find_all('p')\n",
    "print(result)\n",
    "# result=soup.find_all(\"p\")"
   ]
  },
  {
   "cell_type": "code",
   "execution_count": 74,
   "metadata": {},
   "outputs": [
    {
     "name": "stdout",
     "output_type": "stream",
     "text": [
      " France\n",
      " Pays Basque\n",
      " semi-hard, artisan\n",
      " creamy, dense and firm\n",
      " natural\n",
      " yellow\n",
      " burnt caramel\n",
      " lanoline\n",
      " yes \n",
      " Abbaye Notre-Dame de Belloc\n"
     ]
    }
   ],
   "source": [
    "# result=soup.find(\"ul\", class_ = \"summary-points\")\n",
    "# print(result)\n",
    "for p in result:\n",
    "    first=p.text\n",
    "    first1=first.split(':')\n",
    "    category=first1[0]\n",
    "    try:   \n",
    "        attribute=first1[1]\n",
    "        print(attribute)\n",
    "    \n",
    "    except IndexError:\n",
    "        pass\n",
    "    \n",
    "    \n",
    "\n"
   ]
  },
  {
   "cell_type": "code",
   "execution_count": 75,
   "metadata": {},
   "outputs": [],
   "source": [
    "mozz= soup.find('div', class_='unit')"
   ]
  },
  {
   "cell_type": "code",
   "execution_count": 78,
   "metadata": {},
   "outputs": [
    {
     "data": {
      "text/plain": [
       "'Abbaye de Belloc '"
      ]
     },
     "execution_count": 78,
     "metadata": {},
     "output_type": "execute_result"
    }
   ],
   "source": [
    "mozz.h1.text"
   ]
  },
  {
   "cell_type": "code",
   "execution_count": null,
   "metadata": {},
   "outputs": [],
   "source": []
  },
  {
   "cell_type": "code",
   "execution_count": null,
   "metadata": {},
   "outputs": [],
   "source": []
  },
  {
   "cell_type": "code",
   "execution_count": null,
   "metadata": {},
   "outputs": [],
   "source": []
  }
 ],
 "metadata": {
  "kernelspec": {
   "display_name": "Python 3",
   "language": "python",
   "name": "python3"
  },
  "language_info": {
   "codemirror_mode": {
    "name": "ipython",
    "version": 3
   },
   "file_extension": ".py",
   "mimetype": "text/x-python",
   "name": "python",
   "nbconvert_exporter": "python",
   "pygments_lexer": "ipython3",
   "version": "3.6.10"
  }
 },
 "nbformat": 4,
 "nbformat_minor": 4
}
