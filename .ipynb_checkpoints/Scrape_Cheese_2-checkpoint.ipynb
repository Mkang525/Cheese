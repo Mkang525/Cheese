{
 "cells": [
  {
   "cell_type": "code",
   "execution_count": 1,
   "metadata": {},
   "outputs": [],
   "source": [
    " # Dependencies\n",
    "from bs4 import BeautifulSoup, NavigableString\n",
    "import requests\n",
    "import pymongo\n",
    "from splinter import Browser\n",
    "import re"
   ]
  },
  {
   "cell_type": "code",
   "execution_count": 2,
   "metadata": {},
   "outputs": [],
   "source": [
    "conn = 'mongodb://localhost:27017'\n",
    "client = pymongo.MongoClient(conn)"
   ]
  },
  {
   "cell_type": "code",
   "execution_count": 3,
   "metadata": {},
   "outputs": [],
   "source": [
    "executable_path = {'executable_path': 'chromedriver.exe'}\n",
    "browser = Browser('chrome', **executable_path, headless=False)\n",
    "\n",
    "url = 'https://www.matchingfoodandwine.com/news/pairings/wine-and-cheese-pairings-for-beginners/'\n",
    "browser.visit(url)\n"
   ]
  },
  {
   "cell_type": "code",
   "execution_count": 94,
   "metadata": {},
   "outputs": [
    {
     "name": "stdout",
     "output_type": "stream",
     "text": [
      "['Cabernet sauvignon', 'merlot and Bordeaux blends - cheddar', 'gouda and other hard cheeses']\n",
      "['Pinot noir - brie and camembert']\n",
      "['Rhône and other southern French reds - a good all-rounder with a French cheeseboard']\n",
      "['Rioja - particularly good with sheep cheeses like Manchego']\n",
      "['Chianti - parmigiano reggiano and pecorino']\n",
      "['Port - blue cheeses like stilton']\n",
      "['Sauvignon blanc - goat cheese and feta', 'cheeses with garlic and herbs']\n",
      "['Chardonnay - buttery cheddar']\n",
      "['Pinot Grigio  - mozzarella and other mild Italian cheeses (good with an antipasti platter)']\n"
     ]
    }
   ],
   "source": [
    "# Retrieve page with the requests module\n",
    "response = requests.get(url)\n",
    "# Create BeautifulSoup object; parse with 'lxml'\n",
    "soup = BeautifulSoup(response.text, 'lxml')\n",
    "\n",
    "\n",
    "\n",
    "result = soup.find(\"div\", class_='fl_blogpost1').find_all(\"p\")\n",
    "result_cheese = result[16:25]\n",
    "\n",
    "\n",
    "for p in result_cheese:\n",
    "    text = p.text\n",
    "    text = text[3:]\n",
    "    text1 = str(text)\n",
    "#     print (text1)\n",
    "    \n",
    "    result = [x.strip() for x in text1.split(',')]\n",
    "    print(result)\n",
    "    \n",
    "#     listToStr = ' '.join([str(elem) for elem in result]) \n",
    "#     print(listToStr)\n",
    "    \n",
    "#     text_split1 = text.split(',')\n",
    "#     print (text_split1)\n",
    "\n",
    "#     text_split1 = re.split(',|-|and', text)\n",
    "#     print(text_split1)\n",
    "    \n",
    "#     res = [ele for ele in text_split1 if ele.strip()] \n",
    "#     print(res)\n",
    "\n",
    "    \n",
    "#     res = [item.strip() for item in text_split1.split(',')]\n",
    "#     print (str(res))\n",
    "\n"
   ]
  },
  {
   "cell_type": "code",
   "execution_count": 92,
   "metadata": {},
   "outputs": [
    {
     "name": "stdout",
     "output_type": "stream",
     "text": [
      "['Cabernet sauvignon', 'Pinot noir - brie and camembert', 'Rhône and other southern French reds - a good all-rounder with a French cheeseboard', 'Rioja - particularly good with sheep cheeses like Manchego', 'Chianti - parmigiano reggiano and pecorino', 'Port - blue cheeses like stilton', 'Sauvignon blanc - goat cheese and feta', 'Chardonnay - buttery cheddar', 'Pinot Grigio  - mozzarella and other mild Italian cheeses (good with an antipasti platter)']\n"
     ]
    }
   ],
   "source": [
    "bad_chars = ['-']\n",
    "wine=[]\n",
    "\n",
    "for p in result_cheese:\n",
    "    text = p.text\n",
    "    text = text[3:]\n",
    "    text1 = str(text)\n",
    "#     print(text1)\n",
    "\n",
    "    text_split1 = re.split(',|-|and', text1)\n",
    "#     print(text_split1)\n",
    "    \n",
    "#     cabernet = text_split1[0]\n",
    "#     print(cabernet)\n",
    "    \n",
    " \n",
    "    \n",
    "    result = [x.strip() for x in text1.split(',')]\n",
    "#     print(result)\n",
    "    wine.append(result[0])\n",
    "\n",
    "print(wine)\n",
    "\n",
    "\n",
    "    \n",
    "#     for i in bad_chars :\n",
    "#         test_string = text_split1.replace(i, '')\n",
    "#         print (str(test_string))\n",
    "    \n",
    "#     result = [x.strip() for x in test_string.split(',')]\n",
    "#     print(result)\n",
    "\n",
    "#     text_split1 = re.split(',|-|and', test_string)\n",
    "#     print(text_split1)"
   ]
  },
  {
   "cell_type": "code",
   "execution_count": 93,
   "metadata": {},
   "outputs": [
    {
     "name": "stdout",
     "output_type": "stream",
     "text": [
      "Cabernet sauvignon\n",
      "----------------------------\n",
      "Pinot noir \n",
      "----------------------------\n",
      "Rhône \n",
      "----------------------------\n",
      "Rioja \n",
      "----------------------------\n",
      "Chianti \n",
      "----------------------------\n",
      "----------------------------\n"
     ]
    }
   ],
   "source": [
    "cabernet = wine[0]\n",
    "print(cabernet)\n",
    "print('----------------------------')\n",
    "\n",
    "pinotnoir1 = wine[1]\n",
    "pinotnoir = re.split(',|-|and', pinotnoir1)\n",
    "print(pinotnoir[0])\n",
    "\n",
    "pinotnoircheese = pinotnoir[1],pinotnoir[2]\n",
    "# print(pinotnoircheese)\n",
    "print('----------------------------')\n",
    "\n",
    "rhone1=wine[2]\n",
    "rhone = re.split(',|-|and', rhone1)\n",
    "rhone = rhone[0]\n",
    "print(rhone)\n",
    "\n",
    "print('----------------------------')\n",
    "\n",
    "rioja = wine[3]\n",
    "rioja = re.split(',|-|and', rioja)\n",
    "rioja = rioja[0]\n",
    "print(rioja)\n",
    "\n",
    "print('----------------------------')\n",
    "\n",
    "chianti = wine[4]\n",
    "chianti = re.split(',|-|and', chianti)\n",
    "chianti = chianti[0]\n",
    "print(chianti)\n",
    "\n",
    "print('----------------------------')\n",
    "\n",
    "\n",
    "\n",
    "print('----------------------------')"
   ]
  },
  {
   "cell_type": "code",
   "execution_count": 89,
   "metadata": {},
   "outputs": [
    {
     "name": "stdout",
     "output_type": "stream",
     "text": [
      "P\n",
      "None\n"
     ]
    }
   ],
   "source": [
    "def wine_split(variety):\n",
    "    global wine\n",
    "\n",
    "#     for i in len(wine):\n",
    "#         for wine in wine[i]:\n",
    "#             variety = wine[i]\n",
    "\n",
    "   \n",
    "    for i in range(len(wine)):\n",
    "            print(wine[i])\n",
    "            \n",
    "#             variety = wine[i]\n",
    "    \n",
    "    \n",
    "        \n",
    "print(wine_split('Cabernet sauvignon'))    "
   ]
  },
  {
   "cell_type": "code",
   "execution_count": null,
   "metadata": {},
   "outputs": [],
   "source": [
    "# full body wine --> "
   ]
  }
 ],
 "metadata": {
  "kernelspec": {
   "display_name": "Python 3",
   "language": "python",
   "name": "python3"
  },
  "language_info": {
   "codemirror_mode": {
    "name": "ipython",
    "version": 3
   },
   "file_extension": ".py",
   "mimetype": "text/x-python",
   "name": "python",
   "nbconvert_exporter": "python",
   "pygments_lexer": "ipython3",
   "version": "3.6.10"
  }
 },
 "nbformat": 4,
 "nbformat_minor": 4
}
