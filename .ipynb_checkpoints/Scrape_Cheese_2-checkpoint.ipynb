{
 "cells": [
  {
   "cell_type": "code",
   "execution_count": 2,
   "metadata": {},
   "outputs": [],
   "source": [
    " # Dependencies\n",
    "from bs4 import BeautifulSoup, NavigableString\n",
    "import requests\n",
    "import pymongo\n",
    "from splinter import Browser"
   ]
  },
  {
   "cell_type": "code",
   "execution_count": 3,
   "metadata": {},
   "outputs": [],
   "source": [
    "conn = 'mongodb://localhost:27017'\n",
    "client = pymongo.MongoClient(conn)"
   ]
  },
  {
   "cell_type": "code",
   "execution_count": 4,
   "metadata": {},
   "outputs": [],
   "source": [
    "executable_path = {'executable_path': 'chromedriver.exe'}\n",
    "browser = Browser('chrome', **executable_path, headless=False)\n",
    "\n",
    "url = 'https://www.matchingfoodandwine.com/news/pairings/wine-and-cheese-pairings-for-beginners/'\n",
    "browser.visit(url)\n"
   ]
  },
  {
   "cell_type": "code",
   "execution_count": 31,
   "metadata": {},
   "outputs": [
    {
     "name": "stdout",
     "output_type": "stream",
     "text": [
      "1. Cabernet sauvignon, merlot and Bordeaux blends - cheddar, gouda and other hard cheeses\n",
      "2. Pinot noir - brie and camembert\n",
      "3.  Rhône and other southern French reds - a good all-rounder with a French cheeseboard\n",
      "4. Rioja - particularly good with sheep cheeses like Manchego\n",
      "5.  Chianti - parmigiano reggiano and pecorino\n",
      "6. Port - blue cheeses like stilton\n",
      "7. Sauvignon blanc - goat cheese and feta, cheeses with garlic and herbs\n",
      "8. Chardonnay - buttery cheddar\n",
      "9. Pinot Grigio  - mozzarella and other mild Italian cheeses (good with an antipasti platter)\n"
     ]
    }
   ],
   "source": [
    "# Retrieve page with the requests module\n",
    "response = requests.get(url)\n",
    "# Create BeautifulSoup object; parse with 'lxml'\n",
    "soup = BeautifulSoup(response.text, 'lxml')\n",
    "\n",
    "\n",
    "\n",
    "result = soup.find(\"div\", class_='fl_blogpost1').find_all(\"p\")\n",
    "result_cheese = result[16:25]\n",
    "\n",
    "\n",
    "for p in result_cheese:\n",
    "    text = p.text\n",
    "    print(text)\n",
    "\n",
    "# result.find(\"img\", class_=\"\")\n",
    "# result=soup.find_all(\"p\")"
   ]
  },
  {
   "cell_type": "code",
   "execution_count": 15,
   "metadata": {},
   "outputs": [
    {
     "name": "stdout",
     "output_type": "stream",
     "text": [
      "None\n",
      "None\n",
      "None\n",
      "<img alt=\"\" class=\"\" rel=\"\" src=\"siteimages/Cheese/cheddar-cheese-©-stephanie-frey-at-fotolia.com.jpg\"/>\n",
      "None\n",
      "None\n",
      "<img alt=\"\" class=\"\" rel=\"\" src=\"siteimages/Cheese/blue-cheese.-copyright-kkavve-at-fotolia.com.jpg\"/>\n",
      "None\n",
      "<img alt=\"\" class=\"\" rel=\"\" src=\"siteimages/Cheese/goat_cheese_wine_pairings.jpg\"/>\n",
      "None\n",
      "<img alt=\"Copyright hawanafsu at fotolia.com\" class=\"\" rel=\"\" src=\"siteimages/Cheese/epoisses.-copyright-hawanafsu-at-fotolia.com.jpg\"/>\n",
      "None\n",
      "<img alt=\"© tsuboya at fotolia.com\" class=\"\" rel=\"\" src=\"siteimages/Cheese/cheese-fondue-©tsuboya.jpg\"/>\n",
      "None\n",
      "None\n",
      "<img alt=\"Copyright W Production at fotolia.com\" class=\"\" rel=\"\" src=\"siteimages/Cheese/wine-with-cheese.-copyright-w-production-at-fotolia.com.jpg\"/>\n",
      "None\n",
      "None\n",
      "None\n",
      "None\n",
      "None\n",
      "None\n",
      "None\n",
      "None\n",
      "None\n",
      "None\n",
      "None\n",
      "None\n",
      "None\n"
     ]
    }
   ],
   "source": [
    "for p in result:\n",
    "    image=p.find(\"img\")\n",
    "    print(image)"
   ]
  },
  {
   "cell_type": "code",
   "execution_count": 11,
   "metadata": {},
   "outputs": [
    {
     "ename": "KeyError",
     "evalue": "17",
     "output_type": "error",
     "traceback": [
      "\u001b[1;31m---------------------------------------------------------------------------\u001b[0m",
      "\u001b[1;31mKeyError\u001b[0m                                  Traceback (most recent call last)",
      "\u001b[1;32m<ipython-input-11-2eaf19643311>\u001b[0m in \u001b[0;36m<module>\u001b[1;34m\u001b[0m\n\u001b[0;32m      1\u001b[0m \u001b[1;32mfor\u001b[0m \u001b[0mp\u001b[0m \u001b[1;32min\u001b[0m \u001b[0mresult\u001b[0m\u001b[1;33m:\u001b[0m\u001b[1;33m\u001b[0m\u001b[1;33m\u001b[0m\u001b[0m\n\u001b[1;32m----> 2\u001b[1;33m     \u001b[0mprint\u001b[0m\u001b[1;33m(\u001b[0m\u001b[0mp\u001b[0m\u001b[1;33m[\u001b[0m\u001b[1;36m17\u001b[0m\u001b[1;33m]\u001b[0m\u001b[1;33m)\u001b[0m\u001b[1;33m\u001b[0m\u001b[1;33m\u001b[0m\u001b[0m\n\u001b[0m",
      "\u001b[1;32m~\\anaconda3\\envs\\PythonData\\lib\\site-packages\\bs4\\element.py\u001b[0m in \u001b[0;36m__getitem__\u001b[1;34m(self, key)\u001b[0m\n\u001b[0;32m   1399\u001b[0m         \"\"\"tag[key] returns the value of the 'key' attribute for the Tag,\n\u001b[0;32m   1400\u001b[0m         and throws an exception if it's not there.\"\"\"\n\u001b[1;32m-> 1401\u001b[1;33m         \u001b[1;32mreturn\u001b[0m \u001b[0mself\u001b[0m\u001b[1;33m.\u001b[0m\u001b[0mattrs\u001b[0m\u001b[1;33m[\u001b[0m\u001b[0mkey\u001b[0m\u001b[1;33m]\u001b[0m\u001b[1;33m\u001b[0m\u001b[1;33m\u001b[0m\u001b[0m\n\u001b[0m\u001b[0;32m   1402\u001b[0m \u001b[1;33m\u001b[0m\u001b[0m\n\u001b[0;32m   1403\u001b[0m     \u001b[1;32mdef\u001b[0m \u001b[0m__iter__\u001b[0m\u001b[1;33m(\u001b[0m\u001b[0mself\u001b[0m\u001b[1;33m)\u001b[0m\u001b[1;33m:\u001b[0m\u001b[1;33m\u001b[0m\u001b[1;33m\u001b[0m\u001b[0m\n",
      "\u001b[1;31mKeyError\u001b[0m: 17"
     ]
    }
   ],
   "source": []
  },
  {
   "cell_type": "code",
   "execution_count": null,
   "metadata": {},
   "outputs": [],
   "source": [
    "# full body wine --> "
   ]
  }
 ],
 "metadata": {
  "kernelspec": {
   "display_name": "Python 3",
   "language": "python",
   "name": "python3"
  },
  "language_info": {
   "codemirror_mode": {
    "name": "ipython",
    "version": 3
   },
   "file_extension": ".py",
   "mimetype": "text/x-python",
   "name": "python",
   "nbconvert_exporter": "python",
   "pygments_lexer": "ipython3",
   "version": "3.6.10"
  }
 },
 "nbformat": 4,
 "nbformat_minor": 4
}
