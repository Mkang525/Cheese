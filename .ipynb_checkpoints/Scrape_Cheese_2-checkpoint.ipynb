{
 "cells": [
  {
   "cell_type": "code",
   "execution_count": 41,
   "metadata": {},
   "outputs": [],
   "source": [
    " # Dependencies\n",
    "from bs4 import BeautifulSoup, NavigableString\n",
    "import requests\n",
    "import pymongo\n",
    "from splinter import Browser\n",
    "import re"
   ]
  },
  {
   "cell_type": "code",
   "execution_count": 3,
   "metadata": {},
   "outputs": [],
   "source": [
    "conn = 'mongodb://localhost:27017'\n",
    "client = pymongo.MongoClient(conn)"
   ]
  },
  {
   "cell_type": "code",
   "execution_count": 4,
   "metadata": {},
   "outputs": [],
   "source": [
    "executable_path = {'executable_path': 'chromedriver.exe'}\n",
    "browser = Browser('chrome', **executable_path, headless=False)\n",
    "\n",
    "url = 'https://www.matchingfoodandwine.com/news/pairings/wine-and-cheese-pairings-for-beginners/'\n",
    "browser.visit(url)\n"
   ]
  },
  {
   "cell_type": "code",
   "execution_count": 77,
   "metadata": {},
   "outputs": [
    {
     "name": "stdout",
     "output_type": "stream",
     "text": [
      "Cabernet sauvignon\n",
      "Pinot noir - brie and camembert\n",
      "Rhône and other southern French reds - a good all-rounder with a French cheeseboard\n",
      "Rioja - particularly good with sheep cheeses like Manchego\n",
      "Chianti - parmigiano reggiano and pecorino\n",
      "Port - blue cheeses like stilton\n",
      "Sauvignon blanc - goat cheese and feta\n",
      "Chardonnay - buttery cheddar\n",
      "Pinot Grigio  - mozzarella and other mild Italian cheeses (good with an antipasti platter)\n"
     ]
    }
   ],
   "source": [
    "# Retrieve page with the requests module\n",
    "response = requests.get(url)\n",
    "# Create BeautifulSoup object; parse with 'lxml'\n",
    "soup = BeautifulSoup(response.text, 'lxml')\n",
    "\n",
    "\n",
    "\n",
    "result = soup.find(\"div\", class_='fl_blogpost1').find_all(\"p\")\n",
    "result_cheese = result[16:25]\n",
    "\n",
    "\n",
    "for p in result_cheese:\n",
    "    text = p.text\n",
    "    text = text[3:]\n",
    "    text1 = str(text)\n",
    "#     print (text1)\n",
    "    \n",
    "    result = [x.strip() for x in text1.split(',')]\n",
    "    print(result[0])\n",
    "    \n",
    "#     listToStr = ' '.join([str(elem) for elem in result]) \n",
    "#     print(listToStr)\n",
    "    \n",
    "#     text_split1 = text.split(',')\n",
    "#     print (text_split1)\n",
    "\n",
    "#     text_split1 = re.split(',|-|and', text)\n",
    "#     print(text_split1)\n",
    "    \n",
    "#     res = [ele for ele in text_split1 if ele.strip()] \n",
    "#     print(res)\n",
    "\n",
    "    \n",
    "#     res = [item.strip() for item in text_split1.split(',')]\n",
    "#     print (str(res))\n",
    "\n"
   ]
  },
  {
   "cell_type": "code",
   "execution_count": 97,
   "metadata": {},
   "outputs": [
    {
     "name": "stdout",
     "output_type": "stream",
     "text": [
      "['Cabernet sauvignon', ' merlot ', ' Bordeaux blends ', ' cheddar', ' gouda ', ' other hard cheeses']\n",
      "Cabernet sauvignon\n",
      "['Pinot noir ', ' brie ', ' camembert']\n",
      "Pinot noir - brie and camembert\n",
      "[' Rhône ', ' other southern French reds ', ' a good all', 'rounder with a French cheeseboard']\n",
      "Rhône and other southern French reds - a good all-rounder with a French cheeseboard\n",
      "['Rioja ', ' particularly good with sheep cheeses like Manchego']\n",
      "Rioja - particularly good with sheep cheeses like Manchego\n",
      "[' Chianti ', ' parmigiano reggiano ', ' pecorino']\n",
      "Chianti - parmigiano reggiano and pecorino\n",
      "['Port ', ' blue cheeses like stilton']\n",
      "Port - blue cheeses like stilton\n",
      "['Sauvignon blanc ', ' goat cheese ', ' feta', ' cheeses with garlic ', ' herbs']\n",
      "Sauvignon blanc - goat cheese and feta\n",
      "['Chardonnay ', ' buttery cheddar']\n",
      "Chardonnay - buttery cheddar\n",
      "['Pinot Grigio  ', ' mozzarella ', ' other mild Italian cheeses (good with an antipasti platter)']\n",
      "Pinot Grigio  - mozzarella and other mild Italian cheeses (good with an antipasti platter)\n"
     ]
    }
   ],
   "source": [
    "bad_chars = ['-']\n",
    "\n",
    "for p in result_cheese:\n",
    "    text = p.text\n",
    "    text = text[3:]\n",
    "    text1 = str(text)\n",
    "#     print(text1)\n",
    "\n",
    "    text_split1 = str(re.split(',|-|and', text1))\n",
    "    print(text_split1)\n",
    "    \n",
    "    result = [x.strip() for x in text1.split(',')]\n",
    "    print(result[0])\n",
    "\n",
    "    \n",
    "#     for i in bad_chars :\n",
    "#         test_string = text_split1.replace(i, '')\n",
    "#         print (str(test_string))\n",
    "    \n",
    "#     result = [x.strip() for x in test_string.split(',')]\n",
    "#     print(result)\n",
    "\n",
    "#     text_split1 = re.split(',|-|and', test_string)\n",
    "#     print(text_split1)"
   ]
  },
  {
   "cell_type": "code",
   "execution_count": null,
   "metadata": {},
   "outputs": [],
   "source": []
  },
  {
   "cell_type": "code",
   "execution_count": null,
   "metadata": {},
   "outputs": [],
   "source": []
  },
  {
   "cell_type": "code",
   "execution_count": null,
   "metadata": {},
   "outputs": [],
   "source": [
    "# full body wine --> "
   ]
  }
 ],
 "metadata": {
  "kernelspec": {
   "display_name": "Python 3",
   "language": "python",
   "name": "python3"
  },
  "language_info": {
   "codemirror_mode": {
    "name": "ipython",
    "version": 3
   },
   "file_extension": ".py",
   "mimetype": "text/x-python",
   "name": "python",
   "nbconvert_exporter": "python",
   "pygments_lexer": "ipython3",
   "version": "3.6.10"
  }
 },
 "nbformat": 4,
 "nbformat_minor": 4
}
