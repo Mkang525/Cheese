{
 "cells": [
  {
   "cell_type": "code",
   "execution_count": 2,
   "metadata": {},
   "outputs": [],
   "source": [
    "import pandas as pd\n",
    "import os\n",
    "import csv"
   ]
  },
  {
   "cell_type": "code",
   "execution_count": 12,
   "metadata": {},
   "outputs": [],
   "source": [
    "file = \"cheese_csv/ambert.csv\"\n",
    "file1= \"cheese_csv/beaufort.csv\""
   ]
  },
  {
   "cell_type": "code",
   "execution_count": 14,
   "metadata": {},
   "outputs": [],
   "source": [
    "ambert = pd.read_csv(\"cheese_csv/ambert.csv\", encoding='ISO-8859-1')\n",
    "beaufort= pd.read_csv(file1, encoding='ISO-8859-1')"
   ]
  },
  {
   "cell_type": "code",
   "execution_count": 33,
   "metadata": {},
   "outputs": [
    {
     "data": {
      "text/plain": [
       "1"
      ]
     },
     "execution_count": 33,
     "metadata": {},
     "output_type": "execute_result"
    }
   ],
   "source": [
    "ambert.columns\n",
    "len(ambert)\n",
    "ambert=ambert.dropna()\n",
    "len(ambert)"
   ]
  },
  {
   "cell_type": "code",
   "execution_count": 34,
   "metadata": {},
   "outputs": [],
   "source": [
    "beaufort.columns\n",
    "beaufort=beaufort.dropna()"
   ]
  },
  {
   "cell_type": "code",
   "execution_count": 20,
   "metadata": {},
   "outputs": [],
   "source": [
    "df = pd.merge(ambert, beaufort)"
   ]
  },
  {
   "cell_type": "code",
   "execution_count": 35,
   "metadata": {},
   "outputs": [],
   "source": [
    "df = pd.concat([ambert, beaufort])"
   ]
  },
  {
   "cell_type": "code",
   "execution_count": 36,
   "metadata": {},
   "outputs": [
    {
     "data": {
      "text/html": [
       "<div>\n",
       "<style scoped>\n",
       "    .dataframe tbody tr th:only-of-type {\n",
       "        vertical-align: middle;\n",
       "    }\n",
       "\n",
       "    .dataframe tbody tr th {\n",
       "        vertical-align: top;\n",
       "    }\n",
       "\n",
       "    .dataframe thead th {\n",
       "        text-align: right;\n",
       "    }\n",
       "</style>\n",
       "<table border=\"1\" class=\"dataframe\">\n",
       "  <thead>\n",
       "    <tr style=\"text-align: right;\">\n",
       "      <th></th>\n",
       "      <th>Cheese</th>\n",
       "      <th>Country of origin</th>\n",
       "      <th>Region</th>\n",
       "      <th>Family</th>\n",
       "      <th>Type</th>\n",
       "      <th>Fat content</th>\n",
       "      <th>Texture</th>\n",
       "      <th>Rind</th>\n",
       "      <th>Colour</th>\n",
       "      <th>Flavour</th>\n",
       "      <th>Aroma</th>\n",
       "      <th>Vegetarian</th>\n",
       "      <th>Alternative spellings</th>\n",
       "      <th>Producers</th>\n",
       "    </tr>\n",
       "  </thead>\n",
       "  <tbody>\n",
       "    <tr>\n",
       "      <th>0</th>\n",
       "      <td>Ambert</td>\n",
       "      <td>France</td>\n",
       "      <td>Auvergne, Rhône-Alpes</td>\n",
       "      <td>Blue</td>\n",
       "      <td>semi-hard, artisan, blue-veined</td>\n",
       "      <td>50%</td>\n",
       "      <td>creamy, dense and supple</td>\n",
       "      <td>natural</td>\n",
       "      <td>blue</td>\n",
       "      <td>savory, sharp, smooth, tangy</td>\n",
       "      <td>fruity, strong, woody</td>\n",
       "      <td>no</td>\n",
       "      <td>Fourme d'Ambert</td>\n",
       "      <td>NaN</td>\n",
       "    </tr>\n",
       "    <tr>\n",
       "      <th>0</th>\n",
       "      <td>Beaufort</td>\n",
       "      <td>France</td>\n",
       "      <td>Savoie, French Alps</td>\n",
       "      <td>Gruyere</td>\n",
       "      <td>firm</td>\n",
       "      <td>34%</td>\n",
       "      <td>creamy and smooth</td>\n",
       "      <td>NaN</td>\n",
       "      <td>pale yellow</td>\n",
       "      <td>strong</td>\n",
       "      <td>aromatic, pungent</td>\n",
       "      <td>no</td>\n",
       "      <td>NaN</td>\n",
       "      <td>Entremont</td>\n",
       "    </tr>\n",
       "  </tbody>\n",
       "</table>\n",
       "</div>"
      ],
      "text/plain": [
       "     Cheese Country of origin                  Region    Family  \\\n",
       "0    Ambert            France   Auvergne, Rhône-Alpes      Blue   \n",
       "0  Beaufort            France     Savoie, French Alps   Gruyere   \n",
       "\n",
       "                               Type Fat content                    Texture  \\\n",
       "0   semi-hard, artisan, blue-veined         50%   creamy, dense and supple   \n",
       "0                              firm         34%          creamy and smooth   \n",
       "\n",
       "       Rind        Colour                        Flavour  \\\n",
       "0   natural          blue   savory, sharp, smooth, tangy   \n",
       "0       NaN   pale yellow                         strong   \n",
       "\n",
       "                    Aroma Vegetarian Alternative spellings   Producers  \n",
       "0   fruity, strong, woody        no        Fourme d'Ambert         NaN  \n",
       "0       aromatic, pungent        no                    NaN   Entremont  "
      ]
     },
     "execution_count": 36,
     "metadata": {},
     "output_type": "execute_result"
    }
   ],
   "source": [
    "df"
   ]
  },
  {
   "cell_type": "code",
   "execution_count": null,
   "metadata": {},
   "outputs": [],
   "source": []
  }
 ],
 "metadata": {
  "kernelspec": {
   "display_name": "Python 3",
   "language": "python",
   "name": "python3"
  },
  "language_info": {
   "codemirror_mode": {
    "name": "ipython",
    "version": 3
   },
   "file_extension": ".py",
   "mimetype": "text/x-python",
   "name": "python",
   "nbconvert_exporter": "python",
   "pygments_lexer": "ipython3",
   "version": "3.6.10"
  }
 },
 "nbformat": 4,
 "nbformat_minor": 4
}
