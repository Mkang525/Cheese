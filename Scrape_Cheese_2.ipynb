{
 "cells": [
  {
   "cell_type": "code",
   "execution_count": 1,
   "metadata": {},
   "outputs": [],
   "source": [
    " # Dependencies\n",
    "from bs4 import BeautifulSoup, NavigableString\n",
    "import requests\n",
    "import pymongo\n",
    "from splinter import Browser"
   ]
  },
  {
   "cell_type": "code",
   "execution_count": 2,
   "metadata": {},
   "outputs": [],
   "source": [
    "conn = 'mongodb://localhost:27017'\n",
    "client = pymongo.MongoClient(conn)"
   ]
  },
  {
   "cell_type": "code",
   "execution_count": 3,
   "metadata": {},
   "outputs": [],
   "source": [
    "executable_path = {'executable_path': 'chromedriver.exe'}\n",
    "browser = Browser('chrome', **executable_path, headless=False)\n",
    "\n",
    "url = 'https://www.matchingfoodandwine.com/news/pairings/wine-and-cheese-pairings-for-beginners/'\n",
    "browser.visit(url)\n"
   ]
  },
  {
   "cell_type": "code",
   "execution_count": 6,
   "metadata": {},
   "outputs": [
    {
     "name": "stdout",
     "output_type": "stream",
     "text": [
      "[<p>Wine and cheese are well known bedfellows but if you’re a beginner it might seem daunting to decide exactly which wine to choose for which cheese. This guide will quickly help you to get started pairing wine and cheese like a pro. </p>, <p>You might be wondering, should I start with the wine or the cheese? </p>, <p>Most beginners to wine and cheese pairing will be starting with a particular cheese or looking for wines for a cheeseboard. So we’ve broken things down by cheese type. (For wines to pair with your favourite cheese see below)</p>, <p>\n",
      "<img alt=\"\" class=\"\" rel=\"\" src=\"siteimages/Cheese/cheddar-cheese-©-stephanie-frey-at-fotolia.com.jpg\"/> </p>, <p>Hard cheeses include <a href=\"news/pairings/six_of_the_best_matches_for_cheddar_cheese/\">cheddar</a>, <a href=\"news/pairings/the-best-wine-matches-for-comt---updated/\">Comté</a>, Parmigiano-Reggiano and <a href=\"news/pairings/the-best-wine-matches-for-manchego-berkswell-and-other-hard-sheeps-cheeses/\">Manchego</a>. They’re the easiest type of cheese to pair with wine - a medium bodied red like a <em>cabernet sauvignon</em> or a <em>rioja</em> is probably going to be the most enjoyable pairing for most people but try the combination of cheddar and <em>chardonnay</em></p>, <p>Soft cheeses range from spreadable cheeses like Philadelphia to semi-soft white rinded cheeses like <a href=\"news/pairings/5_top_drink_pairings_for_brie/\">brie</a> and <a href=\"news/pairings/what-to-pair-with-camembert/\">camembert</a>. I like them with a fruity red like a <strong>pinot noir</strong> or a <strong>Beaujolais</strong> but rosé works well with this style of cheese too.</p>, <p>\n",
      "<img alt=\"\" class=\"\" rel=\"\" src=\"siteimages/Cheese/blue-cheese.-copyright-kkavve-at-fotolia.com.jpg\"/> </p>, <p>Blue cheeses include <a href=\"news/pairings/8_great_drinks_to_match_with_stilton/\">Stilton</a>, <a href=\"news/pairings/the-best-wine-pairings-with-roquefort-and-a-sensational-whisky-match/\">Roquefort</a> and Gorgonzola. Classic wine pairings tend to be sweet, for example <strong>Sauternes with Roquefort</strong> or <strong>port and stilton</strong>. For something a bit different, try<strong> sloe gin</strong> or <strong>sweet sherry</strong>. And, believe it or not, even <a href=\"news/pairings/8-great-food-pairings-for-stout-and-porter/\">stout and blue cheese</a> work well together.</p>, <p>\n",
      "<img alt=\"\" class=\"\" rel=\"\" src=\"siteimages/Cheese/goat_cheese_wine_pairings.jpg\"/></p>, <p><strong>Sauvignon blanc</strong> is the classic wine pairing for <a href=\"news/pairings/top-wine-pairings-with-goats-cheese-chvre/\">goat cheese</a>, but you could also try a crisp dry <strong>Provençal rosé</strong> (particularly for a summer picnic) or a fresh fruity red such as <strong>Beaujolais</strong>. </p>, <p>\n",
      "<img alt=\"Copyright hawanafsu at fotolia.com\" class=\"\" rel=\"\" src=\"siteimages/Cheese/epoisses.-copyright-hawanafsu-at-fotolia.com.jpg\"/> </p>, <p>Washed-Rind cheeses - often referred to as ‘stinky cheese’ - include Epoisses, Reblochon, <a href=\"cmsplus/blogs.php?pagename=pairings&amp;entry=11415\">Vacherin Mont d’Or </a>and <a href=\"news/blog/5-of-the-worlds-sexiest-cheeses/\">Taleggio</a>. They tend to be quite pungent especially as they mature so don’t expect anything great in the way of a wine pairing. Oddly a crisp dry white wine - or a strong Belgian-style ale - can work better than a red</p>, <p>\n",
      "<img alt=\"© tsuboya at fotolia.com\" class=\"\" rel=\"\" src=\"siteimages/Cheese/cheese-fondue-©tsuboya.jpg\"/></p>, <p>It’s not a cheese style in its own right but melted cheese classics such as fondue and raclette deserve a mention. They aren’t the easiest dishes to match, but a good bet is a crisp or aromatic white wine from the region where these dishes are popular. You’ll find some specific suggestions in this post: <a href=\"news/blog/5-of-the-worlds-sexiest-cheeses/\">the best wine pairings with cheese fondue, raclette and tartiflette.</a></p>, <p>Most people like to pair red wine with cheese and that’s fine - just bear in mind that there are some cheeses, as I’ve suggested above, that taste better with a white wine or dessert wine so don't be afraid to experiment.</p>, <p>\n",
      "<img alt=\"Copyright W Production at fotolia.com\" class=\"\" rel=\"\" src=\"siteimages/Cheese/wine-with-cheese.-copyright-w-production-at-fotolia.com.jpg\"/></p>, <p>1. Cabernet sauvignon, merlot and Bordeaux blends - cheddar, gouda and other hard cheeses</p>, <p>2. Pinot noir - brie and camembert</p>, <p>3.  Rhône and other southern French reds - a good all-rounder with a French cheeseboard</p>, <p>4. Rioja - particularly good with sheep cheeses like Manchego</p>, <p>5.  Chianti - parmigiano reggiano and pecorino</p>, <p>6. Port - blue cheeses like stilton</p>, <p>7. Sauvignon blanc - goat cheese and feta, cheeses with garlic and herbs</p>, <p>8. Chardonnay - buttery cheddar</p>, <p>9. Pinot Grigio  - mozzarella and other mild Italian cheeses (good with an antipasti platter)</p>, <p>10. Champagne and other sparkling wine - Vacherin Mont d’or, Chaource</p>, <p><strong>If you enjoyed this post download my cheese book <a href=\"shop/101-great-ways-to-enjoy-cheese-and-wine/\">101 Great Ways to Enjoy Cheese and Wine</a> for loads of (well, over 101!) other pairing ideas </strong></p>, <p>Top photo ©  <a href=\"https://en.fotolia.com/p/200376827\" target=\"_blank\">George Dolgikh</a> at fotolia.com</p>, <p><em>If you found this post useful and were happy to get the advice for free perhaps you'd think about donating towards the running costs of the site? You can find out how to do it <a href=\"content/donate/\" style=\"\">here</a> or to subscribe to our regular newsletter click <a href=\"content/subscribe/\" style=\"\">here</a>.</em></p>]\n"
     ]
    }
   ],
   "source": [
    "# Retrieve page with the requests module\n",
    "response = requests.get(url)\n",
    "# Create BeautifulSoup object; parse with 'lxml'\n",
    "soup = BeautifulSoup(response.text, 'lxml')\n",
    "\n",
    "\n",
    "\n",
    "result = soup.find(\"div\", class_='fl_blogpost1').find_all(\"p\")\n",
    "print(result)\n",
    "# result=soup.find_all(\"p\")"
   ]
  },
  {
   "cell_type": "code",
   "execution_count": null,
   "metadata": {},
   "outputs": [],
   "source": []
  }
 ],
 "metadata": {
  "kernelspec": {
   "display_name": "Python 3",
   "language": "python",
   "name": "python3"
  },
  "language_info": {
   "codemirror_mode": {
    "name": "ipython",
    "version": 3
   },
   "file_extension": ".py",
   "mimetype": "text/x-python",
   "name": "python",
   "nbconvert_exporter": "python",
   "pygments_lexer": "ipython3",
   "version": "3.6.10"
  }
 },
 "nbformat": 4,
 "nbformat_minor": 4
}
